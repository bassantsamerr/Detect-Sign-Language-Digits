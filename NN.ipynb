{
  "cells": [
    {
      "cell_type": "code",
      "execution_count": null,
      "metadata": {
        "id": "LKOrwHhXFHE3"
      },
      "outputs": [],
      "source": [
        "import numpy as np\n",
        "import tensorflow as tf\n",
        "import requests\n",
        "import pandas as pd\n",
        "import urllib.request\n",
        "import os\n",
        "import PIL\n",
        "from PIL import Image\n",
        "from tensorflow import keras\n",
        "from matplotlib import image\n",
        "from matplotlib import pyplot\n",
        "from os import listdir\n",
        "import cv2\n",
        "from skimage.transform import resize\n",
        "import matplotlib.pyplot as plt\n",
        "from skimage import color\n",
        "from skimage import io # load all images in a directory\n",
        "from sklearn.utils import shuffle\n",
        "from skimage.color import rgb2gray"
      ]
    },
    {
      "cell_type": "code",
      "execution_count": null,
      "metadata": {
        "colab": {
          "base_uri": "https://localhost:8080/"
        },
        "id": "zYNd-_4QGW4U",
        "outputId": "d0c307cb-b67d-45c2-d294-5bce04bc8960"
      },
      "outputs": [
        {
          "output_type": "stream",
          "name": "stdout",
          "text": [
            "fatal: destination path 'Sign-Language-Digits-Dataset' already exists and is not an empty directory.\n",
            "Looking in indexes: https://pypi.org/simple, https://us-python.pkg.dev/colab-wheels/public/simple/\n",
            "Requirement already satisfied: Pillow in /usr/local/lib/python3.8/dist-packages (7.1.2)\n"
          ]
        }
      ],
      "source": [
        "!git  clone https://github.com/ardamavi/Sign-Language-Digits-Dataset\n",
        "!pip install Pillow"
      ]
    },
    {
      "cell_type": "code",
      "execution_count": null,
      "metadata": {
        "id": "G5jJvu05Si_i"
      },
      "outputs": [],
      "source": [
        "grey_images= []\n",
        "output=[]\n",
        "for x in range(0,10):\n",
        " for filename in listdir('/content/Sign-Language-Digits-Dataset/Dataset/'+str(x)):\n",
        "  #load image\n",
        "  img_data = Image.open('/content/Sign-Language-Digits-Dataset/Dataset/'+str(x)+'/' + filename)\n",
        "  #setting output\n",
        "  output.append(x);\n",
        "  #store grey image\n",
        "  img=Image.open('/content/Sign-Language-Digits-Dataset/Dataset/'+str(x)+'/' + filename)\n",
        "  imgGray=img.convert('L')\n",
        "  grey_images.append(imgGray)\n",
        "grey_images, output = shuffle(grey_images, output, random_state=42) \n"
      ]
    },
    {
      "cell_type": "code",
      "source": [
        "#resize\n",
        "new_gray_images=[]\n",
        "newsize = (100, 100)\n",
        "print(type(grey_images))\n",
        "for image in grey_images:\n",
        "  new_gray_images.append(image.resize(newsize))"
      ],
      "metadata": {
        "id": "IDtuIH-zWtt3",
        "colab": {
          "base_uri": "https://localhost:8080/"
        },
        "outputId": "ab360b9d-f6c1-4510-ef27-cfcfeb2778b9"
      },
      "execution_count": null,
      "outputs": [
        {
          "output_type": "stream",
          "name": "stdout",
          "text": [
            "<class 'list'>\n"
          ]
        }
      ]
    },
    {
      "cell_type": "code",
      "execution_count": null,
      "metadata": {
        "id": "uv-9PkRVG2yW",
        "colab": {
          "base_uri": "https://localhost:8080/"
        },
        "outputId": "c41eeffa-2313-470e-b67a-b1446fb9c341"
      },
      "outputs": [
        {
          "output_type": "stream",
          "name": "stderr",
          "text": [
            "<ipython-input-5-f7f3cadf500e>:6: FutureWarning: The input object of type 'Image' is an array-like implementing one of the corresponding protocols (`__array__`, `__array_interface__` or `__array_struct__`); but not a sequence (or 0-D). In the future, this object will be coerced as if it was first converted using `np.array(obj)`. To retain the old behaviour, you have to either modify the type 'Image', or assign to an empty array created with `np.empty(correct_shape, dtype=object)`.\n",
            "  x_train=np.array(x_train)\n",
            "<ipython-input-5-f7f3cadf500e>:6: VisibleDeprecationWarning: Creating an ndarray from ragged nested sequences (which is a list-or-tuple of lists-or-tuples-or ndarrays with different lengths or shapes) is deprecated. If you meant to do this, you must specify 'dtype=object' when creating the ndarray.\n",
            "  x_train=np.array(x_train)\n",
            "<ipython-input-5-f7f3cadf500e>:9: FutureWarning: The input object of type 'Image' is an array-like implementing one of the corresponding protocols (`__array__`, `__array_interface__` or `__array_struct__`); but not a sequence (or 0-D). In the future, this object will be coerced as if it was first converted using `np.array(obj)`. To retain the old behaviour, you have to either modify the type 'Image', or assign to an empty array created with `np.empty(correct_shape, dtype=object)`.\n",
            "  x_test = np.array(new_gray_images[split_1:])#20\n",
            "<ipython-input-5-f7f3cadf500e>:9: VisibleDeprecationWarning: Creating an ndarray from ragged nested sequences (which is a list-or-tuple of lists-or-tuples-or ndarrays with different lengths or shapes) is deprecated. If you meant to do this, you must specify 'dtype=object' when creating the ndarray.\n",
            "  x_test = np.array(new_gray_images[split_1:])#20\n"
          ]
        },
        {
          "output_type": "stream",
          "name": "stdout",
          "text": [
            "<PIL.Image.Image image mode=L size=100x100 at 0x7FB268C7C460>\n",
            "(1649, 100, 100)\n",
            "(1649,)\n",
            "(413, 100, 100)\n",
            "(413,)\n",
            "<class 'numpy.ndarray'>\n",
            "<class 'numpy.ndarray'>\n",
            "<class 'numpy.ndarray'>\n",
            "<class 'numpy.ndarray'>\n"
          ]
        }
      ],
      "source": [
        "split_1 = int(0.8 * len(grey_images))\n",
        "split_2 = int(0.8 * len(output))\n",
        "\n",
        "np.stack(new_gray_images, axis=0).astype('float32')\n",
        "x_train = new_gray_images[:split_1]#80 \n",
        "x_train=np.array(x_train)\n",
        "y_train = np.array(output[:split_2])\n",
        "y_train=np.array(y_train).flatten()\n",
        "x_test = np.array(new_gray_images[split_1:])#20\n",
        "x_test=np.array(x_test)\n",
        "y_test =np.array(output[split_2:]).flatten()\n",
        "Normalized_x_train=[]\n",
        "Normalized_x_test=[]\n",
        "\n",
        "#Normalize\n",
        "print(x_train[0])\n",
        "for image in x_train:\n",
        "  image_array = np.asarray(image)\n",
        "  normalized_array = image_array / 255\n",
        "  Normalized_x_train.append(normalized_array)\n",
        "\n",
        "\n",
        "for image in x_test:\n",
        "  image_array = np.asarray(image)\n",
        "  normalized_array = image_array / 255\n",
        "  Normalized_x_test.append(normalized_array)\n",
        "\n",
        "\n",
        "\n",
        "x_train_new=np.array(Normalized_x_train)\n",
        "x_test_new=np.array(Normalized_x_test)\n",
        "\n",
        "print(x_train_new.shape)\n",
        "print(y_train.shape)\n",
        "print(x_test_new.shape)\n",
        "print(y_test.shape)\n",
        "print(type(x_train_new))\n",
        "print(type(y_train))\n",
        "print(type(x_test_new))\n",
        "print(type(y_test))\n"
      ]
    },
    {
      "cell_type": "code",
      "execution_count": null,
      "metadata": {
        "id": "Go0JnaIdF9_0"
      },
      "outputs": [],
      "source": [
        "#Model 1\n",
        "#Simple Model with No Hidden Layers\n",
        "#dense means all the neurons in one layer is connected with every other neuron in another layer\n",
        "#The output is 100 neurons\n",
        "def model1():\n",
        "  model=keras.Sequential([\n",
        "      keras.layers.Flatten(input_shape=(100,100,1)),\n",
        "      keras.layers.Dense(10, activation='sigmoid')\n",
        "  ])\n",
        "  #we used adam optmizer\n",
        "  #we used this loss because our output data is categorical although we could use mean square error\n",
        "  model.compile(optimizer='adam',\n",
        "                loss='sparse_categorical_crossentropy',\n",
        "                metrics=['accuracy'])\n",
        "  return model "
      ]
    },
    {
      "cell_type": "code",
      "source": [
        "#Model 2\n",
        "#Model with No Hidden Layers\n",
        "#dense means all the neurons in one layer is connected with every other neuron in another layer\n",
        "#The output is 100 neurons\n",
        "def model2():\n",
        "  model=keras.Sequential([\n",
        "      keras.layers.Flatten(input_shape=(100,100,1)),\n",
        "      keras.layers.Dense(500, activation='relu'),\n",
        "      keras.layers.Dense(10, activation='softmax')\n",
        "  ])\n",
        "  #we used adam optmizer\n",
        "  #we used this loss because our output data is categorical although we could use mean square error\n",
        "  model.compile(optimizer='adam',\n",
        "                loss='sparse_categorical_crossentropy',\n",
        "                metrics=['accuracy'])\n",
        "  return model"
      ],
      "metadata": {
        "id": "EHhoIaSZEKqa"
      },
      "execution_count": null,
      "outputs": []
    },
    {
      "cell_type": "code",
      "source": [
        "#Model 2\n",
        "#Model with No Hidden Layers\n",
        "#dense means all the neurons in one layer is connected with every other neuron in another layer\n",
        "#The output is 100 neurons\n",
        "def model3():\n",
        "  model=keras.Sequential([\n",
        "      keras.layers.Flatten(input_shape=(100,100,1)),\n",
        "      keras.layers.Dense(500, activation='relu'),\n",
        "      keras.layers.Dense(1000, activation='relu'),\n",
        "      keras.layers.Dense(10, activation='softmax')\n",
        "  ])\n",
        "  #we used adam optmizer\n",
        "  #we used this loss because our output data is categorical although we could use mean square error\n",
        "  model.compile(optimizer='adam',\n",
        "                loss='sparse_categorical_crossentropy',\n",
        "                metrics=['accuracy'])\n",
        "  return model"
      ],
      "metadata": {
        "id": "0e_25xPx9xaJ"
      },
      "execution_count": null,
      "outputs": []
    },
    {
      "cell_type": "code",
      "source": [
        "from sklearn.model_selection import KFold\n",
        "def kFold(model, x_train,y_train):\n",
        "  kfold=KFold(n_splits=5)\n",
        "  for x_train_ind,x_test_ind in kfold.split(x_train,y_train):\n",
        "    x_train_set, y_train_set,x_test_set,y_test_set=x_train[x_train_ind],y_train[x_train_ind],x_train[x_test_ind],y_train[x_test_ind]\n",
        "    model.fit(x_train_set,y_train_set,epochs=10)\n",
        "    print(\"*************\")\n",
        "    #print(model.evaluate(x_test_set,y_test_set))\n",
        "    testLoss, testAccuracy = model.evaluate(x_test_set,y_test_set, verbose=2)\n",
        "    print('\\ntest accuracy', testAccuracy)"
      ],
      "metadata": {
        "id": "Lo2d4dNgC2bv"
      },
      "execution_count": null,
      "outputs": []
    },
    {
      "cell_type": "code",
      "source": [
        "print(\"-------------------Evaluate Model 1-------------------\")\n",
        "model_1=model1()\n",
        "kFold(model_1, x_train_new,y_train)\n",
        "#y_predicted = model2.predict(x_test_new)\n",
        "#y_predicted[3]"
      ],
      "metadata": {
        "id": "eDSvz7EXExqO",
        "colab": {
          "base_uri": "https://localhost:8080/"
        },
        "outputId": "e41b8d95-db02-428c-b788-c828df3751e6"
      },
      "execution_count": null,
      "outputs": [
        {
          "output_type": "stream",
          "name": "stdout",
          "text": [
            "-------------------Evaluate Model 1-------------------\n",
            "Epoch 1/10\n",
            "42/42 [==============================] - 1s 7ms/step - loss: 3.7156 - accuracy: 0.1296\n",
            "Epoch 2/10\n",
            "42/42 [==============================] - 0s 5ms/step - loss: 2.1037 - accuracy: 0.2904\n",
            "Epoch 3/10\n",
            "42/42 [==============================] - 0s 5ms/step - loss: 1.8657 - accuracy: 0.4056\n",
            "Epoch 4/10\n",
            "42/42 [==============================] - 0s 6ms/step - loss: 1.7833 - accuracy: 0.4230\n",
            "Epoch 5/10\n",
            "42/42 [==============================] - 0s 5ms/step - loss: 1.5459 - accuracy: 0.4966\n",
            "Epoch 6/10\n",
            "42/42 [==============================] - 0s 5ms/step - loss: 1.3853 - accuracy: 0.5497\n",
            "Epoch 7/10\n",
            "42/42 [==============================] - 0s 5ms/step - loss: 1.5484 - accuracy: 0.5034\n",
            "Epoch 8/10\n",
            "42/42 [==============================] - 0s 5ms/step - loss: 1.2088 - accuracy: 0.5989\n",
            "Epoch 9/10\n",
            "42/42 [==============================] - 0s 8ms/step - loss: 1.0802 - accuracy: 0.6422\n",
            "Epoch 10/10\n",
            "42/42 [==============================] - 0s 6ms/step - loss: 1.1437 - accuracy: 0.6187\n",
            "*************\n",
            "11/11 - 0s - loss: 1.4190 - accuracy: 0.5697 - 185ms/epoch - 17ms/step\n",
            "\n",
            "test accuracy 0.5696969628334045\n",
            "Epoch 1/10\n",
            "42/42 [==============================] - 0s 5ms/step - loss: 1.1016 - accuracy: 0.6361\n",
            "Epoch 2/10\n",
            "42/42 [==============================] - 0s 5ms/step - loss: 1.0341 - accuracy: 0.6558\n",
            "Epoch 3/10\n",
            "42/42 [==============================] - 0s 5ms/step - loss: 0.9894 - accuracy: 0.6846\n",
            "Epoch 4/10\n",
            "42/42 [==============================] - 0s 5ms/step - loss: 0.9036 - accuracy: 0.6998\n",
            "Epoch 5/10\n",
            "42/42 [==============================] - 0s 6ms/step - loss: 0.8894 - accuracy: 0.7013\n",
            "Epoch 6/10\n",
            "42/42 [==============================] - 0s 5ms/step - loss: 1.0310 - accuracy: 0.6634\n",
            "Epoch 7/10\n",
            "42/42 [==============================] - 0s 5ms/step - loss: 0.9490 - accuracy: 0.6876\n",
            "Epoch 8/10\n",
            "42/42 [==============================] - 0s 5ms/step - loss: 0.8688 - accuracy: 0.7165\n",
            "Epoch 9/10\n",
            "42/42 [==============================] - 0s 6ms/step - loss: 0.8424 - accuracy: 0.7127\n",
            "Epoch 10/10\n",
            "42/42 [==============================] - 0s 5ms/step - loss: 0.7459 - accuracy: 0.7574\n",
            "*************\n",
            "11/11 - 0s - loss: 1.8327 - accuracy: 0.5303 - 64ms/epoch - 6ms/step\n",
            "\n",
            "test accuracy 0.5303030014038086\n",
            "Epoch 1/10\n",
            "42/42 [==============================] - 0s 8ms/step - loss: 0.9007 - accuracy: 0.7111\n",
            "Epoch 2/10\n",
            "42/42 [==============================] - 0s 9ms/step - loss: 0.9563 - accuracy: 0.6755\n",
            "Epoch 3/10\n",
            "42/42 [==============================] - 0s 10ms/step - loss: 0.7741 - accuracy: 0.7400\n",
            "Epoch 4/10\n",
            "42/42 [==============================] - 0s 9ms/step - loss: 0.8984 - accuracy: 0.7058\n",
            "Epoch 5/10\n",
            "42/42 [==============================] - 0s 9ms/step - loss: 0.7418 - accuracy: 0.7619\n",
            "Epoch 6/10\n",
            "42/42 [==============================] - 0s 10ms/step - loss: 0.7409 - accuracy: 0.7453\n",
            "Epoch 7/10\n",
            "42/42 [==============================] - 0s 8ms/step - loss: 0.7190 - accuracy: 0.7612\n",
            "Epoch 8/10\n",
            "42/42 [==============================] - 0s 9ms/step - loss: 0.7499 - accuracy: 0.7407\n",
            "Epoch 9/10\n",
            "42/42 [==============================] - 0s 9ms/step - loss: 0.7117 - accuracy: 0.7597\n",
            "Epoch 10/10\n",
            "42/42 [==============================] - 0s 9ms/step - loss: 0.7215 - accuracy: 0.7672\n",
            "*************\n",
            "11/11 - 0s - loss: 0.8475 - accuracy: 0.7485 - 55ms/epoch - 5ms/step\n",
            "\n",
            "test accuracy 0.7484848499298096\n",
            "Epoch 1/10\n",
            "42/42 [==============================] - 0s 9ms/step - loss: 0.7147 - accuracy: 0.7589\n",
            "Epoch 2/10\n",
            "42/42 [==============================] - 0s 8ms/step - loss: 0.7687 - accuracy: 0.7293\n",
            "Epoch 3/10\n",
            "42/42 [==============================] - 0s 8ms/step - loss: 0.6246 - accuracy: 0.7877\n",
            "Epoch 4/10\n",
            "42/42 [==============================] - 0s 9ms/step - loss: 0.6367 - accuracy: 0.7945\n",
            "Epoch 5/10\n",
            "42/42 [==============================] - 0s 8ms/step - loss: 0.7331 - accuracy: 0.7483\n",
            "Epoch 6/10\n",
            "42/42 [==============================] - 0s 9ms/step - loss: 0.6284 - accuracy: 0.7885\n",
            "Epoch 7/10\n",
            "42/42 [==============================] - 0s 9ms/step - loss: 0.5317 - accuracy: 0.8279\n",
            "Epoch 8/10\n",
            "42/42 [==============================] - 0s 7ms/step - loss: 0.6314 - accuracy: 0.7854\n",
            "Epoch 9/10\n",
            "42/42 [==============================] - 0s 8ms/step - loss: 0.6189 - accuracy: 0.7968\n",
            "Epoch 10/10\n",
            "42/42 [==============================] - 0s 9ms/step - loss: 0.5829 - accuracy: 0.8120\n",
            "*************\n",
            "11/11 - 0s - loss: 0.4692 - accuracy: 0.8545 - 61ms/epoch - 6ms/step\n",
            "\n",
            "test accuracy 0.8545454740524292\n",
            "Epoch 1/10\n",
            "42/42 [==============================] - 0s 8ms/step - loss: 0.5709 - accuracy: 0.8068\n",
            "Epoch 2/10\n",
            "42/42 [==============================] - 0s 8ms/step - loss: 0.6379 - accuracy: 0.7932\n",
            "Epoch 3/10\n",
            "42/42 [==============================] - 0s 9ms/step - loss: 0.6511 - accuracy: 0.7697\n",
            "Epoch 4/10\n",
            "42/42 [==============================] - 0s 8ms/step - loss: 0.7291 - accuracy: 0.7712\n",
            "Epoch 5/10\n",
            "42/42 [==============================] - 0s 9ms/step - loss: 0.4873 - accuracy: 0.8402\n",
            "Epoch 6/10\n",
            "42/42 [==============================] - 0s 9ms/step - loss: 0.5217 - accuracy: 0.8341\n",
            "Epoch 7/10\n",
            "42/42 [==============================] - 0s 8ms/step - loss: 0.5011 - accuracy: 0.8356\n",
            "Epoch 8/10\n",
            "42/42 [==============================] - 0s 5ms/step - loss: 0.4722 - accuracy: 0.8492\n",
            "Epoch 9/10\n",
            "42/42 [==============================] - 0s 5ms/step - loss: 0.5489 - accuracy: 0.8242\n",
            "Epoch 10/10\n",
            "42/42 [==============================] - 0s 5ms/step - loss: 0.4980 - accuracy: 0.8205\n",
            "*************\n",
            "11/11 - 0s - loss: 0.6018 - accuracy: 0.8024 - 37ms/epoch - 3ms/step\n",
            "\n",
            "test accuracy 0.802431583404541\n"
          ]
        }
      ]
    },
    {
      "cell_type": "code",
      "source": [
        "print(\"-------------------Evaluate Model 2-------------------\")\n",
        "model_2=model2()\n",
        "kFold(model_2, x_train_new,y_train)"
      ],
      "metadata": {
        "id": "O1EBO6xyTJFV",
        "colab": {
          "base_uri": "https://localhost:8080/"
        },
        "outputId": "6f54469b-27b4-48c3-9656-c061cf762174"
      },
      "execution_count": null,
      "outputs": [
        {
          "output_type": "stream",
          "name": "stdout",
          "text": [
            "-------------------Evaluate Model 2-------------------\n",
            "Epoch 1/10\n",
            "42/42 [==============================] - 2s 34ms/step - loss: 8.1582 - accuracy: 0.1092\n",
            "Epoch 2/10\n",
            "42/42 [==============================] - 1s 34ms/step - loss: 2.1756 - accuracy: 0.2358\n",
            "Epoch 3/10\n",
            "42/42 [==============================] - 1s 34ms/step - loss: 1.9718 - accuracy: 0.3237\n",
            "Epoch 4/10\n",
            "42/42 [==============================] - 1s 33ms/step - loss: 1.7353 - accuracy: 0.3973\n",
            "Epoch 5/10\n",
            "42/42 [==============================] - 1s 33ms/step - loss: 1.5713 - accuracy: 0.4549\n",
            "Epoch 6/10\n",
            "42/42 [==============================] - 1s 33ms/step - loss: 1.4576 - accuracy: 0.5413\n",
            "Epoch 7/10\n",
            "42/42 [==============================] - 1s 33ms/step - loss: 1.3993 - accuracy: 0.5231\n",
            "Epoch 8/10\n",
            "42/42 [==============================] - 1s 33ms/step - loss: 1.3392 - accuracy: 0.5459\n",
            "Epoch 9/10\n",
            "42/42 [==============================] - 1s 33ms/step - loss: 1.1738 - accuracy: 0.6118\n",
            "Epoch 10/10\n",
            "42/42 [==============================] - 1s 33ms/step - loss: 1.1701 - accuracy: 0.6247\n",
            "*************\n",
            "11/11 - 0s - loss: 1.1602 - accuracy: 0.6030 - 244ms/epoch - 22ms/step\n",
            "\n",
            "test accuracy 0.6030303239822388\n",
            "Epoch 1/10\n",
            "42/42 [==============================] - 2s 47ms/step - loss: 1.2159 - accuracy: 0.5830\n",
            "Epoch 2/10\n",
            "42/42 [==============================] - 1s 34ms/step - loss: 1.1675 - accuracy: 0.6096\n",
            "Epoch 3/10\n",
            "42/42 [==============================] - 1s 34ms/step - loss: 1.0356 - accuracy: 0.6482\n",
            "Epoch 4/10\n",
            "42/42 [==============================] - 1s 33ms/step - loss: 0.9834 - accuracy: 0.6823\n",
            "Epoch 5/10\n",
            "42/42 [==============================] - 1s 34ms/step - loss: 0.9216 - accuracy: 0.7066\n",
            "Epoch 6/10\n",
            "42/42 [==============================] - 1s 33ms/step - loss: 0.9426 - accuracy: 0.6884\n",
            "Epoch 7/10\n",
            "42/42 [==============================] - 1s 33ms/step - loss: 0.8325 - accuracy: 0.7293\n",
            "Epoch 8/10\n",
            "42/42 [==============================] - 1s 33ms/step - loss: 0.8391 - accuracy: 0.7195\n",
            "Epoch 9/10\n",
            "42/42 [==============================] - 1s 33ms/step - loss: 0.8431 - accuracy: 0.7293\n",
            "Epoch 10/10\n",
            "42/42 [==============================] - 1s 34ms/step - loss: 0.7793 - accuracy: 0.7506\n",
            "*************\n",
            "11/11 - 0s - loss: 1.4417 - accuracy: 0.5182 - 133ms/epoch - 12ms/step\n",
            "\n",
            "test accuracy 0.5181818008422852\n",
            "Epoch 1/10\n",
            "42/42 [==============================] - 1s 34ms/step - loss: 0.8962 - accuracy: 0.7081\n",
            "Epoch 2/10\n",
            "42/42 [==============================] - 1s 34ms/step - loss: 0.7584 - accuracy: 0.7483\n",
            "Epoch 3/10\n",
            "42/42 [==============================] - 1s 34ms/step - loss: 0.7839 - accuracy: 0.7354\n",
            "Epoch 4/10\n",
            "42/42 [==============================] - 1s 34ms/step - loss: 0.8660 - accuracy: 0.6967\n",
            "Epoch 5/10\n",
            "42/42 [==============================] - 1s 33ms/step - loss: 0.6901 - accuracy: 0.7854\n",
            "Epoch 6/10\n",
            "42/42 [==============================] - 1s 33ms/step - loss: 0.7049 - accuracy: 0.7672\n",
            "Epoch 7/10\n",
            "42/42 [==============================] - 1s 34ms/step - loss: 0.6330 - accuracy: 0.7961\n",
            "Epoch 8/10\n",
            "42/42 [==============================] - 1s 34ms/step - loss: 0.6861 - accuracy: 0.7657\n",
            "Epoch 9/10\n",
            "42/42 [==============================] - 1s 33ms/step - loss: 0.6726 - accuracy: 0.7741\n",
            "Epoch 10/10\n",
            "42/42 [==============================] - 1s 34ms/step - loss: 0.6657 - accuracy: 0.7688\n",
            "*************\n",
            "11/11 - 0s - loss: 0.7824 - accuracy: 0.7455 - 138ms/epoch - 13ms/step\n",
            "\n",
            "test accuracy 0.7454545497894287\n",
            "Epoch 1/10\n",
            "42/42 [==============================] - 1s 34ms/step - loss: 0.6369 - accuracy: 0.7991\n",
            "Epoch 2/10\n",
            "42/42 [==============================] - 1s 33ms/step - loss: 0.7540 - accuracy: 0.7384\n",
            "Epoch 3/10\n",
            "42/42 [==============================] - 1s 33ms/step - loss: 0.6363 - accuracy: 0.7854\n",
            "Epoch 4/10\n",
            "42/42 [==============================] - 1s 34ms/step - loss: 0.5948 - accuracy: 0.8044\n",
            "Epoch 5/10\n",
            "42/42 [==============================] - 1s 33ms/step - loss: 0.6298 - accuracy: 0.8029\n",
            "Epoch 6/10\n",
            "42/42 [==============================] - 1s 34ms/step - loss: 0.6120 - accuracy: 0.8029\n",
            "Epoch 7/10\n",
            "42/42 [==============================] - 1s 34ms/step - loss: 0.5870 - accuracy: 0.8105\n",
            "Epoch 8/10\n",
            "42/42 [==============================] - 1s 34ms/step - loss: 0.6682 - accuracy: 0.7786\n",
            "Epoch 9/10\n",
            "42/42 [==============================] - 1s 34ms/step - loss: 0.5723 - accuracy: 0.8143\n",
            "Epoch 10/10\n",
            "42/42 [==============================] - 1s 34ms/step - loss: 0.5626 - accuracy: 0.8127\n",
            "*************\n",
            "11/11 - 0s - loss: 0.4833 - accuracy: 0.8485 - 137ms/epoch - 12ms/step\n",
            "\n",
            "test accuracy 0.8484848737716675\n",
            "Epoch 1/10\n",
            "42/42 [==============================] - 1s 34ms/step - loss: 0.5834 - accuracy: 0.7992\n",
            "Epoch 2/10\n",
            "42/42 [==============================] - 1s 33ms/step - loss: 0.5376 - accuracy: 0.8220\n",
            "Epoch 3/10\n",
            "42/42 [==============================] - 1s 33ms/step - loss: 0.4947 - accuracy: 0.8379\n",
            "Epoch 4/10\n",
            "42/42 [==============================] - 1s 33ms/step - loss: 0.5648 - accuracy: 0.8030\n",
            "Epoch 5/10\n",
            "42/42 [==============================] - 1s 33ms/step - loss: 0.5030 - accuracy: 0.8364\n",
            "Epoch 6/10\n",
            "42/42 [==============================] - 1s 33ms/step - loss: 0.5596 - accuracy: 0.8076\n",
            "Epoch 7/10\n",
            "42/42 [==============================] - 1s 33ms/step - loss: 0.4604 - accuracy: 0.8568\n",
            "Epoch 8/10\n",
            "42/42 [==============================] - 1s 33ms/step - loss: 0.4889 - accuracy: 0.8341\n",
            "Epoch 9/10\n",
            "42/42 [==============================] - 1s 34ms/step - loss: 0.4768 - accuracy: 0.8515\n",
            "Epoch 10/10\n",
            "42/42 [==============================] - 1s 33ms/step - loss: 0.4553 - accuracy: 0.8523\n",
            "*************\n",
            "11/11 - 0s - loss: 0.7124 - accuracy: 0.7629 - 141ms/epoch - 13ms/step\n",
            "\n",
            "test accuracy 0.7629179358482361\n"
          ]
        }
      ]
    },
    {
      "cell_type": "code",
      "source": [
        "print(\"-------------------Evaluate Model 3-------------------\")\n",
        "model_3=model3()\n",
        "kFold(model_3, x_train_new,y_train)"
      ],
      "metadata": {
        "colab": {
          "base_uri": "https://localhost:8080/"
        },
        "id": "MeoJQu2W95-D",
        "outputId": "cbf00094-2b34-4c02-9b6c-e08726de6f70"
      },
      "execution_count": null,
      "outputs": [
        {
          "output_type": "stream",
          "name": "stdout",
          "text": [
            "-------------------Evaluate Model 3-------------------\n",
            "Epoch 1/10\n",
            "42/42 [==============================] - 3s 59ms/step - loss: 4.1072 - accuracy: 0.1039\n",
            "Epoch 2/10\n",
            "42/42 [==============================] - 2s 51ms/step - loss: 2.2621 - accuracy: 0.1774\n",
            "Epoch 3/10\n",
            "42/42 [==============================] - 2s 38ms/step - loss: 2.0299 - accuracy: 0.2502\n",
            "Epoch 4/10\n",
            "42/42 [==============================] - 2s 38ms/step - loss: 1.8542 - accuracy: 0.3192\n",
            "Epoch 5/10\n",
            "42/42 [==============================] - 2s 39ms/step - loss: 1.7875 - accuracy: 0.3199\n",
            "Epoch 6/10\n",
            "42/42 [==============================] - 2s 38ms/step - loss: 1.6440 - accuracy: 0.3571\n",
            "Epoch 7/10\n",
            "42/42 [==============================] - 2s 44ms/step - loss: 1.5315 - accuracy: 0.4155\n",
            "Epoch 8/10\n",
            "42/42 [==============================] - 2s 50ms/step - loss: 1.4719 - accuracy: 0.4405\n",
            "Epoch 9/10\n",
            "42/42 [==============================] - 2s 40ms/step - loss: 1.6822 - accuracy: 0.3768\n",
            "Epoch 10/10\n",
            "42/42 [==============================] - 2s 38ms/step - loss: 1.6914 - accuracy: 0.3730\n",
            "*************\n",
            "11/11 - 0s - loss: 1.6651 - accuracy: 0.3121 - 265ms/epoch - 24ms/step\n",
            "\n",
            "test accuracy 0.3121212124824524\n",
            "Epoch 1/10\n",
            "42/42 [==============================] - 2s 40ms/step - loss: 1.4835 - accuracy: 0.4397\n",
            "Epoch 2/10\n",
            "42/42 [==============================] - 2s 39ms/step - loss: 1.4305 - accuracy: 0.4587\n",
            "Epoch 3/10\n",
            "42/42 [==============================] - 2s 39ms/step - loss: 1.3433 - accuracy: 0.4951\n",
            "Epoch 4/10\n",
            "42/42 [==============================] - 2s 39ms/step - loss: 1.2730 - accuracy: 0.5110\n",
            "Epoch 5/10\n",
            "42/42 [==============================] - 2s 39ms/step - loss: 1.2741 - accuracy: 0.5042\n",
            "Epoch 6/10\n",
            "42/42 [==============================] - 2s 39ms/step - loss: 1.2393 - accuracy: 0.5155\n",
            "Epoch 7/10\n",
            "42/42 [==============================] - 2s 39ms/step - loss: 1.1593 - accuracy: 0.5466\n",
            "Epoch 8/10\n",
            "42/42 [==============================] - 2s 40ms/step - loss: 1.2108 - accuracy: 0.5148\n",
            "Epoch 9/10\n",
            "42/42 [==============================] - 2s 39ms/step - loss: 1.1929 - accuracy: 0.5216\n",
            "Epoch 10/10\n",
            "42/42 [==============================] - 2s 39ms/step - loss: 1.1211 - accuracy: 0.5724\n",
            "*************\n",
            "11/11 - 0s - loss: 1.2975 - accuracy: 0.4818 - 151ms/epoch - 14ms/step\n",
            "\n",
            "test accuracy 0.48181816935539246\n",
            "Epoch 1/10\n",
            "42/42 [==============================] - 2s 39ms/step - loss: 1.2194 - accuracy: 0.5262\n",
            "Epoch 2/10\n",
            "42/42 [==============================] - 2s 39ms/step - loss: 1.2646 - accuracy: 0.4928\n",
            "Epoch 3/10\n",
            "42/42 [==============================] - 2s 39ms/step - loss: 1.0875 - accuracy: 0.5747\n",
            "Epoch 4/10\n",
            "42/42 [==============================] - 2s 39ms/step - loss: 1.1041 - accuracy: 0.5739\n",
            "Epoch 5/10\n",
            "42/42 [==============================] - 2s 38ms/step - loss: 1.1324 - accuracy: 0.5504\n",
            "Epoch 6/10\n",
            "42/42 [==============================] - 2s 39ms/step - loss: 1.0875 - accuracy: 0.5830\n",
            "Epoch 7/10\n",
            "42/42 [==============================] - 2s 40ms/step - loss: 1.0522 - accuracy: 0.5777\n",
            "Epoch 8/10\n",
            "42/42 [==============================] - 2s 40ms/step - loss: 1.0302 - accuracy: 0.6118\n",
            "Epoch 9/10\n",
            "42/42 [==============================] - 2s 39ms/step - loss: 1.1247 - accuracy: 0.5466\n",
            "Epoch 10/10\n",
            "42/42 [==============================] - 2s 39ms/step - loss: 1.0449 - accuracy: 0.5823\n",
            "*************\n",
            "11/11 - 0s - loss: 1.1525 - accuracy: 0.5879 - 151ms/epoch - 14ms/step\n",
            "\n",
            "test accuracy 0.5878787636756897\n",
            "Epoch 1/10\n",
            "42/42 [==============================] - 2s 40ms/step - loss: 1.0436 - accuracy: 0.5929\n",
            "Epoch 2/10\n",
            "42/42 [==============================] - 2s 39ms/step - loss: 1.0606 - accuracy: 0.5648\n",
            "Epoch 3/10\n",
            "42/42 [==============================] - 2s 40ms/step - loss: 1.0382 - accuracy: 0.5921\n",
            "Epoch 4/10\n",
            "42/42 [==============================] - 2s 40ms/step - loss: 1.0411 - accuracy: 0.5747\n",
            "Epoch 5/10\n",
            "42/42 [==============================] - 2s 39ms/step - loss: 1.0191 - accuracy: 0.6027\n",
            "Epoch 6/10\n",
            "42/42 [==============================] - 2s 39ms/step - loss: 0.9725 - accuracy: 0.6096\n",
            "Epoch 7/10\n",
            "42/42 [==============================] - 2s 40ms/step - loss: 0.9463 - accuracy: 0.6437\n",
            "Epoch 8/10\n",
            "42/42 [==============================] - 2s 39ms/step - loss: 0.9736 - accuracy: 0.6141\n",
            "Epoch 9/10\n",
            "42/42 [==============================] - 2s 39ms/step - loss: 1.0958 - accuracy: 0.5716\n",
            "Epoch 10/10\n",
            "42/42 [==============================] - 2s 39ms/step - loss: 0.9855 - accuracy: 0.6103\n",
            "*************\n",
            "11/11 - 0s - loss: 1.1001 - accuracy: 0.5909 - 157ms/epoch - 14ms/step\n",
            "\n",
            "test accuracy 0.5909090638160706\n",
            "Epoch 1/10\n",
            "42/42 [==============================] - 2s 39ms/step - loss: 1.0329 - accuracy: 0.6015\n",
            "Epoch 2/10\n",
            "42/42 [==============================] - 2s 39ms/step - loss: 1.0442 - accuracy: 0.5773\n",
            "Epoch 3/10\n",
            "42/42 [==============================] - 2s 40ms/step - loss: 0.9445 - accuracy: 0.6273\n",
            "Epoch 4/10\n",
            "42/42 [==============================] - 2s 39ms/step - loss: 0.9090 - accuracy: 0.6591\n",
            "Epoch 5/10\n",
            "42/42 [==============================] - 2s 39ms/step - loss: 1.0984 - accuracy: 0.5636\n",
            "Epoch 6/10\n",
            "42/42 [==============================] - 2s 38ms/step - loss: 0.9330 - accuracy: 0.6341\n",
            "Epoch 7/10\n",
            "42/42 [==============================] - 2s 39ms/step - loss: 0.9127 - accuracy: 0.6477\n",
            "Epoch 8/10\n",
            "42/42 [==============================] - 2s 39ms/step - loss: 0.9121 - accuracy: 0.6492\n",
            "Epoch 9/10\n",
            "42/42 [==============================] - 2s 38ms/step - loss: 0.9339 - accuracy: 0.6333\n",
            "Epoch 10/10\n",
            "42/42 [==============================] - 2s 40ms/step - loss: 0.9467 - accuracy: 0.6356\n",
            "*************\n",
            "11/11 - 0s - loss: 0.8624 - accuracy: 0.6839 - 153ms/epoch - 14ms/step\n",
            "\n",
            "test accuracy 0.6838905811309814\n"
          ]
        }
      ]
    },
    {
      "cell_type": "code",
      "source": [
        "print(\"Evaluate model 1 on the test dataset\")\n",
        "print(model_1.evaluate(x_test_new,y_test))"
      ],
      "metadata": {
        "colab": {
          "base_uri": "https://localhost:8080/"
        },
        "id": "SbcoNtbMSVW1",
        "outputId": "f2b2fcee-19a2-4c96-98b6-df3570b5e976"
      },
      "execution_count": null,
      "outputs": [
        {
          "output_type": "stream",
          "name": "stdout",
          "text": [
            "Evaluate model 1 on the test dataset\n",
            "13/13 [==============================] - 0s 3ms/step - loss: 0.9861 - accuracy: 0.7167\n",
            "[0.9861254096031189, 0.7167070508003235]\n"
          ]
        }
      ]
    },
    {
      "cell_type": "code",
      "source": [
        "print(\"Evaluate model 2 on the test dataset\")\n",
        "print(model_2.evaluate(x_test_new,y_test))"
      ],
      "metadata": {
        "colab": {
          "base_uri": "https://localhost:8080/"
        },
        "id": "yKLCvgba-nE8",
        "outputId": "a04e2f20-96b9-4e15-a818-d7acd1f7d606"
      },
      "execution_count": null,
      "outputs": [
        {
          "output_type": "stream",
          "name": "stdout",
          "text": [
            "Evaluate model 2 on the test dataset\n",
            "13/13 [==============================] - 0s 13ms/step - loss: 0.9858 - accuracy: 0.7191\n",
            "[0.9857746958732605, 0.7191283106803894]\n"
          ]
        }
      ]
    },
    {
      "cell_type": "code",
      "source": [
        "print(\"Evaluate model 3 on the test dataset\")\n",
        "print(model_3.evaluate(x_test_new,y_test))"
      ],
      "metadata": {
        "colab": {
          "base_uri": "https://localhost:8080/"
        },
        "id": "ZHUOKQeC-rn1",
        "outputId": "e2dabcbb-a9e1-41fa-d7cb-3285621f7e71"
      },
      "execution_count": null,
      "outputs": [
        {
          "output_type": "stream",
          "name": "stdout",
          "text": [
            "Evaluate model 3 on the test dataset\n",
            "13/13 [==============================] - 0s 14ms/step - loss: 1.0751 - accuracy: 0.5714\n",
            "[1.0750902891159058, 0.5714285969734192]\n"
          ]
        }
      ]
    },
    {
      "cell_type": "code",
      "source": [
        "y_pred_1 = model_1.predict(x_test_new)  "
      ],
      "metadata": {
        "colab": {
          "base_uri": "https://localhost:8080/"
        },
        "id": "V_JgdrrnTOyP",
        "outputId": "209aeeda-21d5-43b4-ddda-42574ca24b69"
      },
      "execution_count": null,
      "outputs": [
        {
          "output_type": "stream",
          "name": "stdout",
          "text": [
            "13/13 [==============================] - 0s 3ms/step\n"
          ]
        }
      ]
    },
    {
      "cell_type": "code",
      "source": [
        "y_pred_2 = model_2.predict(x_test_new)  "
      ],
      "metadata": {
        "colab": {
          "base_uri": "https://localhost:8080/"
        },
        "id": "XyuCL6gyeq-3",
        "outputId": "33dac67f-c8aa-481a-e691-8c00800b0b44"
      },
      "execution_count": null,
      "outputs": [
        {
          "output_type": "stream",
          "name": "stdout",
          "text": [
            "13/13 [==============================] - 0s 12ms/step\n"
          ]
        }
      ]
    },
    {
      "cell_type": "code",
      "source": [
        "y_pred_3 = model_3.predict(x_test_new)   "
      ],
      "metadata": {
        "colab": {
          "base_uri": "https://localhost:8080/"
        },
        "id": "1U5ZZ_U3erLv",
        "outputId": "42b664c0-d512-4f4d-ebd0-baef8babd946"
      },
      "execution_count": null,
      "outputs": [
        {
          "output_type": "stream",
          "name": "stdout",
          "text": [
            "13/13 [==============================] - 0s 14ms/step\n"
          ]
        }
      ]
    },
    {
      "cell_type": "code",
      "source": [
        "from sklearn.metrics import mean_squared_error, mean_absolute_error\n",
        "\n",
        "#Evaluate Model 1 \n",
        "print(\"Calculating MSE and MAE of Model 1\")\n",
        "# Calculate the mean squared error\n",
        "mse = mean_squared_error(y_test[:5], y_pred_1[:5])\n",
        "print(f'MSE: {mse:.2f}')\n",
        "\n",
        "# Calculate the mean absolute error\n",
        "mae = mean_absolute_error(y_test[:5], y_pred_1[:5])\n",
        "print(f'MAE: {mae:.2f}')"
      ],
      "metadata": {
        "colab": {
          "base_uri": "https://localhost:8080/"
        },
        "id": "yJOEb4rkT3Em",
        "outputId": "9cc321ad-9077-4e4e-bba9-208fe0fc3c51"
      },
      "execution_count": null,
      "outputs": [
        {
          "output_type": "stream",
          "name": "stdout",
          "text": [
            "Calculating MSE and MAE of Model 1\n",
            "MSE: 19.83\n",
            "MAE: 3.80\n"
          ]
        }
      ]
    },
    {
      "cell_type": "code",
      "source": [
        "from sklearn.metrics import mean_squared_error, mean_absolute_error\n",
        "\n",
        "#Evaluate Model 1 \n",
        "print(\"Calculating MSE and MAE of Model 2\")\n",
        "# Calculate the mean squared error\n",
        "mse = mean_squared_error(y_test[:5], y_pred_2[:5])\n",
        "print(f'MSE: {mse:.2f}')\n",
        "\n",
        "# Calculate the mean absolute error\n",
        "mae = mean_absolute_error(y_test[:5], y_pred_2[:5])\n",
        "print(f'MAE: {mae:.2f}')"
      ],
      "metadata": {
        "colab": {
          "base_uri": "https://localhost:8080/"
        },
        "id": "6KDv5enbezC-",
        "outputId": "59b506e1-290e-4e13-fd6b-dbbfe7732ce3"
      },
      "execution_count": null,
      "outputs": [
        {
          "output_type": "stream",
          "name": "stdout",
          "text": [
            "Calculating MSE and MAE of Model 2\n",
            "MSE: 27.40\n",
            "MAE: 4.60\n"
          ]
        }
      ]
    },
    {
      "cell_type": "code",
      "source": [
        "from sklearn.metrics import mean_squared_error, mean_absolute_error\n",
        "\n",
        "#Evaluate Model 3\n",
        "print(\"Calculating MSE and MAE of Model 3\")\n",
        "# Calculate the mean squared error\n",
        "mse = mean_squared_error(y_test[:100], y_pred_3[:100])\n",
        "print(f'MSE: {mse:.2f}')\n",
        "\n",
        "# Calculate the mean absolute error\n",
        "mae = mean_absolute_error(y_test[:100], y_pred_3[:100])\n",
        "print(f'MAE: {mae:.2f}')"
      ],
      "metadata": {
        "colab": {
          "base_uri": "https://localhost:8080/"
        },
        "id": "sU0a0mWOezPN",
        "outputId": "623f8004-401c-411d-832b-7b990b05b71d"
      },
      "execution_count": null,
      "outputs": [
        {
          "output_type": "stream",
          "name": "stdout",
          "text": [
            "Calculating MSE and MAE of Model 3\n",
            "MSE: 32.35\n",
            "MAE: 4.87\n"
          ]
        }
      ]
    },
    {
      "cell_type": "code",
      "source": [
        "from sklearn.metrics import precision_recall_fscore_support\n",
        "\n",
        "print(\"----------------Evaluate Model 1----------------\")\n",
        "\n",
        "y_pred_1 = np.argmax(y_pred_1, axis=1)\n",
        "\n",
        "# Calculate precision, recall, and f-score for each class\n",
        "precision, recall, fscore, support = precision_recall_fscore_support(y_test[:100], y_pred_1[:100], average=None)\n",
        "\n",
        "confusion_mat = confusion_matrix(y_test[:100], y_pred_1[:100])\n",
        "print(\"Confusion Matrix\")\n",
        "print(confusion_mat)\n",
        "print(\"**************************\")\n",
        "print(\"Classification Report\")\n",
        "print(classification_report(y_test[:100], y_pred_1[:100]))"
      ],
      "metadata": {
        "colab": {
          "base_uri": "https://localhost:8080/"
        },
        "id": "NBiNQ_-rbosP",
        "outputId": "fb200f48-28ad-4f4c-af89-b2d88dd6d66d"
      },
      "execution_count": null,
      "outputs": [
        {
          "output_type": "stream",
          "name": "stdout",
          "text": [
            "----------------Evaluate Model 1----------------\n",
            "Confusion Matrix\n",
            "[[ 8  1  0  0  0  0  0  0  0  0]\n",
            " [ 1  6  0  0  0  0  0  0  1  0]\n",
            " [ 1  0  3  0  0  0  2  1  2  0]\n",
            " [ 0  0  0  5  0  1  0  2  0  1]\n",
            " [ 0  0  0  0  6  0  1  1  2  0]\n",
            " [ 0  0  0  0  1  7  0  0  0  0]\n",
            " [ 1  0  0  0  4  0  4  0  0  0]\n",
            " [ 1  0  0  0  2  0  0  5  0  0]\n",
            " [ 2  0  0  0  1  0  1  0 13  1]\n",
            " [ 1  0  0  1  0  1  0  0  0  9]]\n",
            "**************************\n",
            "Classification Report\n",
            "              precision    recall  f1-score   support\n",
            "\n",
            "           0       0.53      0.89      0.67         9\n",
            "           1       0.86      0.75      0.80         8\n",
            "           2       1.00      0.33      0.50         9\n",
            "           3       0.83      0.56      0.67         9\n",
            "           4       0.43      0.60      0.50        10\n",
            "           5       0.78      0.88      0.82         8\n",
            "           6       0.50      0.44      0.47         9\n",
            "           7       0.56      0.62      0.59         8\n",
            "           8       0.72      0.72      0.72        18\n",
            "           9       0.82      0.75      0.78        12\n",
            "\n",
            "    accuracy                           0.66       100\n",
            "   macro avg       0.70      0.65      0.65       100\n",
            "weighted avg       0.70      0.66      0.66       100\n",
            "\n"
          ]
        }
      ]
    },
    {
      "cell_type": "code",
      "source": [
        "from sklearn.metrics import precision_recall_fscore_support\n",
        "\n",
        "print(\"----------------Evaluate Model 2----------------\")\n",
        "\n",
        "y_pred_2 = np.argmax(y_pred_2, axis=1)\n",
        "\n",
        "# Calculate precision, recall, and f-score for each class\n",
        "precision, recall, fscore, support = precision_recall_fscore_support(y_test[:100], y_pred_2[:100], average=None)\n",
        "\n",
        "confusion_mat = confusion_matrix(y_test[:100], y_pred_2[:100])\n",
        "print(\"Confusion Matrix\")\n",
        "print(confusion_mat)\n",
        "print(\"**************************\")\n",
        "print(\"Classification Report\")\n",
        "print(classification_report(y_test[:100], y_pred_2[:100]))"
      ],
      "metadata": {
        "colab": {
          "base_uri": "https://localhost:8080/"
        },
        "id": "pn2QndcYhTpB",
        "outputId": "40c2cef6-0d62-4507-d3a8-2a41577323e1"
      },
      "execution_count": null,
      "outputs": [
        {
          "output_type": "stream",
          "name": "stdout",
          "text": [
            "----------------Evaluate Model 2----------------\n",
            "Confusion Matrix\n",
            "[[ 8  1  0  0  0  0  0  0  0  0]\n",
            " [ 1  6  0  0  0  0  0  0  1  0]\n",
            " [ 0  0  9  0  0  0  0  0  0  0]\n",
            " [ 0  0  0  7  0  1  0  0  0  1]\n",
            " [ 1  0  0  0  6  0  0  1  2  0]\n",
            " [ 0  0  0  0  1  7  0  0  0  0]\n",
            " [ 1  0  0  0  2  0  3  0  3  0]\n",
            " [ 0  0  2  0  1  1  0  4  0  0]\n",
            " [ 2  0  0  0  1  0  0  0 15  0]\n",
            " [ 1  0  0  1  0  3  0  0  3  4]]\n",
            "**************************\n",
            "Classification Report\n",
            "              precision    recall  f1-score   support\n",
            "\n",
            "           0       0.57      0.89      0.70         9\n",
            "           1       0.86      0.75      0.80         8\n",
            "           2       0.82      1.00      0.90         9\n",
            "           3       0.88      0.78      0.82         9\n",
            "           4       0.55      0.60      0.57        10\n",
            "           5       0.58      0.88      0.70         8\n",
            "           6       1.00      0.33      0.50         9\n",
            "           7       0.80      0.50      0.62         8\n",
            "           8       0.62      0.83      0.71        18\n",
            "           9       0.80      0.33      0.47        12\n",
            "\n",
            "    accuracy                           0.69       100\n",
            "   macro avg       0.75      0.69      0.68       100\n",
            "weighted avg       0.74      0.69      0.67       100\n",
            "\n"
          ]
        }
      ]
    },
    {
      "cell_type": "code",
      "source": [
        "from sklearn.metrics import precision_recall_fscore_support\n",
        "from sklearn.metrics import confusion_matrix, classification_report\n",
        "print(\"----------------Evaluate Model 3----------------\")\n",
        "\n",
        "y_pred_3 = np.argmax(y_pred_3, axis=1)\n",
        "\n",
        "# Calculate precision, recall, and f-score for each class\n",
        "precision, recall, fscore, support = precision_recall_fscore_support(y_test[:100], y_pred_3[:100], average=None)\n",
        "\n",
        "confusion_mat = confusion_matrix(y_test[:100], y_pred_3[:100])\n",
        "print(\"Confusion Matrix\")\n",
        "print(confusion_mat)\n",
        "print(\"**************************\")\n",
        "print(\"Classification Report\")\n",
        "print(classification_report(y_test[:100], y_pred_3[:100]))"
      ],
      "metadata": {
        "colab": {
          "base_uri": "https://localhost:8080/"
        },
        "id": "3iSWnq-0hj5r",
        "outputId": "03c99de8-95f1-4698-84a1-8945f09a25c0"
      },
      "execution_count": null,
      "outputs": [
        {
          "output_type": "stream",
          "name": "stdout",
          "text": [
            "----------------Evaluate Model 3----------------\n",
            "Confusion Matrix\n",
            "[[8 1 0 0 0 0 0 0 0 0]\n",
            " [1 6 1 0 0 0 0 0 0 0]\n",
            " [0 3 5 0 0 0 0 1 0 0]\n",
            " [0 0 1 6 0 1 1 0 0 0]\n",
            " [0 0 0 0 7 0 2 1 0 0]\n",
            " [0 0 0 0 1 7 0 0 0 0]\n",
            " [0 0 1 0 0 0 4 3 1 0]\n",
            " [0 1 2 0 0 0 2 1 2 0]\n",
            " [1 0 0 0 8 0 3 0 5 1]\n",
            " [0 0 0 0 2 4 0 0 0 6]]\n",
            "**************************\n",
            "Classification Report\n",
            "              precision    recall  f1-score   support\n",
            "\n",
            "           0       0.80      0.89      0.84         9\n",
            "           1       0.55      0.75      0.63         8\n",
            "           2       0.50      0.56      0.53         9\n",
            "           3       1.00      0.67      0.80         9\n",
            "           4       0.39      0.70      0.50        10\n",
            "           5       0.58      0.88      0.70         8\n",
            "           6       0.33      0.44      0.38         9\n",
            "           7       0.17      0.12      0.14         8\n",
            "           8       0.62      0.28      0.38        18\n",
            "           9       0.86      0.50      0.63        12\n",
            "\n",
            "    accuracy                           0.55       100\n",
            "   macro avg       0.58      0.58      0.55       100\n",
            "weighted avg       0.59      0.55      0.54       100\n",
            "\n"
          ]
        }
      ]
    }
  ],
  "metadata": {
    "colab": {
      "provenance": []
    },
    "kernelspec": {
      "display_name": "Python 3",
      "name": "python3"
    },
    "language_info": {
      "name": "python"
    }
  },
  "nbformat": 4,
  "nbformat_minor": 0
}